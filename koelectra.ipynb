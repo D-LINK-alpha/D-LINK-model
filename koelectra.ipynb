{
 "cells": [
  {
   "cell_type": "code",
   "execution_count": null,
   "metadata": {},
   "outputs": [],
   "source": [
    "from transformers import ElectraModel, ElectraTokenizer"
   ]
  },
  {
   "cell_type": "code",
   "execution_count": 7,
   "metadata": {},
   "outputs": [],
   "source": [
    "import torch\n",
    "from sklearn.metrics.pairwise import cosine_similarity"
   ]
  },
  {
   "cell_type": "code",
   "execution_count": 2,
   "metadata": {},
   "outputs": [],
   "source": [
    "model = ElectraModel.from_pretrained(\"monologg/koelectra-base-v3-discriminator\")  # KoELECTRA-Base-v3"
   ]
  },
  {
   "cell_type": "code",
   "execution_count": 3,
   "metadata": {},
   "outputs": [],
   "source": [
    "tokenizer = ElectraTokenizer.from_pretrained(\"monologg/koelectra-base-v3-discriminator\")"
   ]
  },
  {
   "cell_type": "code",
   "execution_count": 5,
   "metadata": {},
   "outputs": [],
   "source": [
    "def get_embedding(text):\n",
    "    # 텍스트를 토큰화하고 토큰의 ID로 변환\n",
    "    inputs = tokenizer(text, return_tensors=\"pt\", padding=True, truncation=True, max_length=512)\n",
    "    \n",
    "    # 모델에 입력하여 hidden state 출력 (문맥적 임베딩)\n",
    "    with torch.no_grad():\n",
    "        outputs = model(**inputs)\n",
    "    \n",
    "    # 마지막 hidden state의 첫번째 토큰 (CLS 토큰)을 문서의 임베딩으로 사용\n",
    "    embeddings = outputs.last_hidden_state[:, 0, :].numpy()\n",
    "    return embeddings"
   ]
  },
  {
   "cell_type": "code",
   "execution_count": 38,
   "metadata": {},
   "outputs": [],
   "source": [
    "import numpy as np"
   ]
  },
  {
   "cell_type": "code",
   "execution_count": 106,
   "metadata": {},
   "outputs": [],
   "source": [
    "similarities = []\n",
    "correlation_matrix = []\n",
    "for i in range(1,5):\n",
    "    s = []\n",
    "    c = []\n",
    "    f = open(f'text{i}.txt', 'r')\n",
    "    text = f.read()\n",
    "    embedding = get_embedding(text)\n",
    "    for i in range(1, 5):\n",
    "        f = open(f'text{i}.txt', 'r')\n",
    "        text = f.read()\n",
    "        embedding1 = get_embedding(text)\n",
    "        s.append((1 + cosine_similarity(embedding, embedding1)[0][0])*50)\n",
    "        c.append(np.corrcoef(embedding1, embedding)[0][1])\n",
    "    similarities.append(s)\n",
    "    correlation_matrix.append(c)"
   ]
  },
  {
   "cell_type": "code",
   "execution_count": 99,
   "metadata": {},
   "outputs": [
    {
     "name": "stdout",
     "output_type": "stream",
     "text": [
      "100.00%\n",
      "63.41%\n",
      "61.84%\n",
      "60.31%\n",
      "63.41%\n",
      "100.00%\n",
      "99.42%\n",
      "99.30%\n",
      "61.84%\n",
      "99.42%\n",
      "100.00%\n",
      "99.38%\n",
      "60.31%\n",
      "99.30%\n",
      "99.38%\n",
      "100.00%\n"
     ]
    }
   ],
   "source": [
    "for i in similarities:\n",
    "    for j in i:\n",
    "        print(\"%.2f%%\" % (j))"
   ]
  },
  {
   "cell_type": "code",
   "execution_count": 96,
   "metadata": {},
   "outputs": [
    {
     "name": "stdout",
     "output_type": "stream",
     "text": [
      "94.35%\n"
     ]
    }
   ],
   "source": [
    "t1 = \"뭐해 지금 바쁜데 빨리 나와\"\n",
    "t2 = \"서둘러서 나와\"\n",
    "print(\"%.2f%%\" % ((1 + cosine_similarity(get_embedding(t1), get_embedding(t2))[0][0])*50))"
   ]
  },
  {
   "cell_type": "code",
   "execution_count": 51,
   "metadata": {},
   "outputs": [
    {
     "data": {
      "text/plain": [
       "[[1.0, 0.6256223022937775, 0.6184166520833969],\n",
       " [0.6256223022937775, 0.9999999105930328, 0.9942547380924225],\n",
       " [0.6184166520833969, 0.9942547380924225, 1.0]]"
      ]
     },
     "execution_count": 51,
     "metadata": {},
     "output_type": "execute_result"
    }
   ],
   "source": [
    "similarities"
   ]
  },
  {
   "cell_type": "code",
   "execution_count": 71,
   "metadata": {},
   "outputs": [
    {
     "data": {
      "text/plain": [
       "[[0.9999999999999999,\n",
       "  0.2457131405972726,\n",
       "  0.23123484063422808,\n",
       "  0.20041062874360838],\n",
       " [0.2457131405972726, 1.0, 0.9884048251182544, 0.9858419274933422],\n",
       " [0.23123484063422806, 0.9884048251182546, 1.0, 0.9874666151248032],\n",
       " [0.2004106287436084,\n",
       "  0.9858419274933423,\n",
       "  0.9874666151248032,\n",
       "  0.9999999999999999]]"
      ]
     },
     "execution_count": 71,
     "metadata": {},
     "output_type": "execute_result"
    }
   ],
   "source": [
    "correlation_matrix"
   ]
  },
  {
   "cell_type": "code",
   "execution_count": 73,
   "metadata": {},
   "outputs": [
    {
     "name": "stdout",
     "output_type": "stream",
     "text": [
      "피어슨 상관계수: 0.9858419274933422\n"
     ]
    }
   ],
   "source": [
    "correlation_matrix = np.corrcoef(embedding1, embedding2)\n",
    "print(f\"피어슨 상관계수: {correlation_matrix[0][1]}\")"
   ]
  },
  {
   "cell_type": "code",
   "execution_count": 107,
   "metadata": {},
   "outputs": [
    {
     "data": {
      "image/png": "[encoded data removed]",
      "text/plain": [
       "<Figure size 640x480 with 2 Axes>"
      ]
     },
     "metadata": {},
     "output_type": "display_data"
    }
   ],
   "source": [
    "import matplotlib.pyplot as plt\n",
    "import seaborn as sns\n",
    "import numpy as np\n",
    "\n",
    "ax = sns.heatmap(similarities, annot=True, cmap=\"YlGnBu\", square=True, cbar_kws={\"shrink\": 1.00}, linewidths=.5)\n"
   ]
  },
  {
   "cell_type": "code",
   "execution_count": 77,
   "metadata": {},
   "outputs": [
    {
     "data": {
      "image/png": "[encoded data removed]",
      "text/plain": [
       "<Figure size 640x480 with 2 Axes>"
      ]
     },
     "metadata": {},
     "output_type": "display_data"
    }
   ],
   "source": [
    "ax = sns.heatmap(correlation_matrix, annot=True, cmap=\"YlGnBu\", square=True, cbar_kws={\"shrink\": .82}, linewidths=.5)"
   ]
  }
 ],
 "metadata": {
  "kernelspec": {
   "display_name": "base",
   "language": "python",
   "name": "python3"
  },
  "language_info": {
   "codemirror_mode": {
    "name": "ipython",
    "version": 3
   },
   "file_extension": ".py",
   "mimetype": "text/x-python",
   "name": "python",
   "nbconvert_exporter": "python",
   "pygments_lexer": "ipython3",
   "version": "3.10.14"
  },
  "orig_nbformat": 4
 },
 "nbformat": 4,
 "nbformat_minor": 2
}
